{
 "cells": [
  {
   "cell_type": "code",
   "execution_count": 1,
   "metadata": {
    "id": "_XgTpm9ZxoN9"
   },
   "outputs": [],
   "source": [
    "from ast import literal_eval\n",
    "import nltk\n",
    "from nltk.corpus import stopwords\n",
    "import numpy as np\n",
    "import pandas as pd\n",
    "from sklearn.feature_extraction.text import TfidfVectorizer\n",
    "import re\n",
    "import string"
   ]
  },
  {
   "cell_type": "code",
   "execution_count": 2,
   "metadata": {
    "colab": {
     "base_uri": "https://localhost:8080/"
    },
    "id": "tAkrKm1iF2Kr",
    "outputId": "dea09d0b-99c7-4261-cc9d-8e5347613a9c"
   },
   "outputs": [
    {
     "name": "stderr",
     "output_type": "stream",
     "text": [
      "[nltk_data] Downloading package stopwords to\n",
      "[nltk_data]     /Users/temilajumoke/nltk_data...\n",
      "[nltk_data]   Package stopwords is already up-to-date!\n",
      "[nltk_data] Downloading package punkt to\n",
      "[nltk_data]     /Users/temilajumoke/nltk_data...\n",
      "[nltk_data]   Package punkt is already up-to-date!\n"
     ]
    }
   ],
   "source": [
    "nltk.download('stopwords')\n",
    "nltk.download('punkt')\n",
    "\n",
    "all_stopwords = set(stopwords.words('english') + list(string.punctuation))"
   ]
  },
  {
   "cell_type": "markdown",
   "metadata": {
    "id": "aNSZ60BTI09f"
   },
   "source": [
    "# Data Preprocessing"
   ]
  },
  {
   "cell_type": "code",
   "execution_count": 3,
   "metadata": {
    "id": "P1a5e_OUPJ3q"
   },
   "outputs": [],
   "source": [
    "CONTENT_ROOT_PATH = \"../Entity_Recognition/Neighborhood_Separated_Articles\""
   ]
  },
  {
   "cell_type": "code",
   "execution_count": 4,
   "metadata": {
    "id": "lL_497Hslrgw"
   },
   "outputs": [],
   "source": [
    "data_file_name_dict = {\n",
    "    '2014':'2014.csv',\n",
    "    '2015':'2015.csv',\n",
    "    '2016':'2016.csv',\n",
    "    '2017':'2017.csv',\n",
    "    '2018':'2018.csv',\n",
    "}"
   ]
  },
  {
   "cell_type": "code",
   "execution_count": 5,
   "metadata": {
    "colab": {
     "base_uri": "https://localhost:8080/",
     "height": 717
    },
    "id": "AsNCon0wSCoO",
    "outputId": "c4639cbd-aabe-4dcb-9fd0-74c7d7cad836"
   },
   "outputs": [
    {
     "data": {
      "text/html": [
       "<div>\n",
       "<style scoped>\n",
       "    .dataframe tbody tr th:only-of-type {\n",
       "        vertical-align: middle;\n",
       "    }\n",
       "\n",
       "    .dataframe tbody tr th {\n",
       "        vertical-align: top;\n",
       "    }\n",
       "\n",
       "    .dataframe thead th {\n",
       "        text-align: right;\n",
       "    }\n",
       "</style>\n",
       "<table border=\"1\" class=\"dataframe\">\n",
       "  <thead>\n",
       "    <tr style=\"text-align: right;\">\n",
       "      <th></th>\n",
       "      <th>Unnamed: 0</th>\n",
       "      <th>dorchester</th>\n",
       "      <th>roxbury</th>\n",
       "      <th>mattapan</th>\n",
       "      <th>hyde_park</th>\n",
       "      <th>fenway</th>\n",
       "      <th>beacon_hill</th>\n",
       "      <th>downtown</th>\n",
       "      <th>south_boston</th>\n",
       "      <th>east_boston</th>\n",
       "      <th>...</th>\n",
       "      <th>charlestown</th>\n",
       "      <th>brighton</th>\n",
       "      <th>allston</th>\n",
       "      <th>west_end</th>\n",
       "      <th>roslindale</th>\n",
       "      <th>north_end</th>\n",
       "      <th>mission_hill</th>\n",
       "      <th>harbor_islands</th>\n",
       "      <th>longwood_medical_area</th>\n",
       "      <th>west_roxbury</th>\n",
       "    </tr>\n",
       "  </thead>\n",
       "  <tbody>\n",
       "    <tr>\n",
       "      <th>0</th>\n",
       "      <td>0</td>\n",
       "      <td>('Before entering a South African prison in 19...</td>\n",
       "      <td>('n individuals who worked in finance  insuran...</td>\n",
       "      <td>('The public scrap over who will serve as the ...</td>\n",
       "      <td>('The Boston Police Department has issued a co...</td>\n",
       "      <td>('Wahlburgers  the burger joint owned by Dorch...</td>\n",
       "      <td>('Martin J  Walsh becomes the 48th mayor of Bo...</td>\n",
       "      <td>('Last week  Mayor Marty Walsh declared to the...</td>\n",
       "      <td>('The 20 year old who allegedly beat a disable...</td>\n",
       "      <td>('Saying that Massachusetts is facing “the big...</td>\n",
       "      <td>...</td>\n",
       "      <td>('Bright skies belie the early spring chill as...</td>\n",
       "      <td>('Boston’s new mayor  Martin J  Walsh  has rep...</td>\n",
       "      <td>('A small army of city inspectors will soon be...</td>\n",
       "      <td>('Shakespeare’s “A Midsummer Night’s Dream” se...</td>\n",
       "      <td>('Last February  Brandon John joined more than...</td>\n",
       "      <td>('When the  offered season ticket holders the ...</td>\n",
       "      <td>('They were immigrants from Iraq and India  th...</td>\n",
       "      <td>('Rain crashes down on onto the tarp  thunder ...</td>\n",
       "      <td></td>\n",
       "      <td>('It’s been almost a full month since Thomas M...</td>\n",
       "    </tr>\n",
       "    <tr>\n",
       "      <th>1</th>\n",
       "      <td>1</td>\n",
       "      <td>('A woman’s toe was bitten off during a fight ...</td>\n",
       "      <td>('Dr  Kenneth C  Edelin  whose historic 1975 m...</td>\n",
       "      <td>('In what police described as a horrific trage...</td>\n",
       "      <td>('nOn the weekend before he was to be sworn in...</td>\n",
       "      <td>('n n n    and  are expanding their burger bus...</td>\n",
       "      <td>('One bone chilling Saturday night about 11 mo...</td>\n",
       "      <td>('The Federal Reserve must take a “patient app...</td>\n",
       "      <td>('n and Michelle Wu stood side by side at the ...</td>\n",
       "      <td>('MEMPHIS — The thank yous were almost endless...</td>\n",
       "      <td>...</td>\n",
       "      <td>('As neighbors living a world apart  they awok...</td>\n",
       "      <td>('The 26 year old Chinese entrepreneur had jus...</td>\n",
       "      <td>('n n for help  The harrowing leaps from smoky...</td>\n",
       "      <td>('nis here    the nascent organizing committee...</td>\n",
       "      <td>('Don’t ask how the sausage is made  the old s...</td>\n",
       "      <td>('As America’s most Irish American city  it co...</td>\n",
       "      <td>('Beth Israel Deaconess Medical Center said We...</td>\n",
       "      <td></td>\n",
       "      <td></td>\n",
       "      <td>('Mayor Martin J  Walsh’s pick for acting fire...</td>\n",
       "    </tr>\n",
       "    <tr>\n",
       "      <th>2</th>\n",
       "      <td>2</td>\n",
       "      <td>('It’s the ideal time for a tech journalist to...</td>\n",
       "      <td>('When they go up  they form the centerpiece o...</td>\n",
       "      <td>('The fatal shooting today of a 9 year old Mat...</td>\n",
       "      <td>('Boston saw its first two homicides of 2014 o...</td>\n",
       "      <td>('Mayor Martin J  Walsh plans to set aside spa...</td>\n",
       "      <td>('nhe Boston Public Library is using three dim...</td>\n",
       "      <td>('ncooler buses  For decades  economists like ...</td>\n",
       "      <td>('Jack Conley  who grew up in South Boston and...</td>\n",
       "      <td>('Marty Walsh has turned the casino licensing ...</td>\n",
       "      <td>...</td>\n",
       "      <td>('When Boston firefighters pulled up to a vaca...</td>\n",
       "      <td>('It was just some children playing baseball o...</td>\n",
       "      <td>('n n for help  The harrowing leaps from smoky...</td>\n",
       "      <td>('nis here    the nascent organizing committee...</td>\n",
       "      <td>('Former Boston councilor Felix D  Arroyo  the...</td>\n",
       "      <td>('In nine days  Wegmans will open a new superm...</td>\n",
       "      <td>('The Rev  Joseph Hung Duc Tran had been ordai...</td>\n",
       "      <td></td>\n",
       "      <td></td>\n",
       "      <td>('His cousin would come to Children’s Hospital...</td>\n",
       "    </tr>\n",
       "    <tr>\n",
       "      <th>3</th>\n",
       "      <td>3</td>\n",
       "      <td>('The first major snowstorm of 2014 has intens...</td>\n",
       "      <td>('Good Morning Chief Justice Ireland  Presiden...</td>\n",
       "      <td>('During a highly publicized Boston Police Dep...</td>\n",
       "      <td>('An elderly woman became Boston’s first fire ...</td>\n",
       "      <td>('By last Christmas  Frank Nunes seemed to hav...</td>\n",
       "      <td>('QUINCY — Massachusetts Democrats saw a new B...</td>\n",
       "      <td>('When Ari S  Heckman was growing up in Provid...</td>\n",
       "      <td>('Mayor Martin J  Walsh said Wednesday that he...</td>\n",
       "      <td>('Marty Walsh has turned the casino licensing ...</td>\n",
       "      <td>...</td>\n",
       "      <td>('Two Charlestown teenagers — a 14 year old gi...</td>\n",
       "      <td>('Boston police are asking for the public’s he...</td>\n",
       "      <td>('n n for help  The harrowing leaps from smoky...</td>\n",
       "      <td>('The first thing everyone noticed about Dawnn...</td>\n",
       "      <td>('nn the middle of evening rush hour at South ...</td>\n",
       "      <td>('n n n nThe 150 dancing  singing  and drummin...</td>\n",
       "      <td>('nLittle about the ordinary looking two famil...</td>\n",
       "      <td></td>\n",
       "      <td></td>\n",
       "      <td>('The  is offering 15 percent off purchases fr...</td>\n",
       "    </tr>\n",
       "    <tr>\n",
       "      <th>4</th>\n",
       "      <td>4</td>\n",
       "      <td>('One Fund Boston  which initially collected $...</td>\n",
       "      <td>('Good Morning Chief Justice Ireland  Presiden...</td>\n",
       "      <td>('At Greater Love Tabernacle Church today  mor...</td>\n",
       "      <td>('n officials in Boston want to give 4 500 mid...</td>\n",
       "      <td>('SALEM — Martha Coakley had already made the ...</td>\n",
       "      <td>('The state’s highest court has thrown out the...</td>\n",
       "      <td>('Marty Walsh had never met Arianna Huffington...</td>\n",
       "      <td>('The state’s largest gay rights organization ...</td>\n",
       "      <td>('While he may not have been a household name ...</td>\n",
       "      <td>...</td>\n",
       "      <td>('A Charlestown man was sentenced to up to 12 ...</td>\n",
       "      <td>('noffice  Mayor Marty Walsh has properly focu...</td>\n",
       "      <td>('Mayor Martin J  Walsh replaced on Monday the...</td>\n",
       "      <td>('Dawnn Jaffier  the 26 year old Brighton woma...</td>\n",
       "      <td>('nn the middle of evening rush hour at South ...</td>\n",
       "      <td>('“Maybe I need a psychiatrist ” says Donato F...</td>\n",
       "      <td>('For 24 years  Ellen Wade and Maureen Brodoff...</td>\n",
       "      <td></td>\n",
       "      <td></td>\n",
       "      <td>('A 33 year old man with a criminal record dat...</td>\n",
       "    </tr>\n",
       "  </tbody>\n",
       "</table>\n",
       "<p>5 rows × 23 columns</p>\n",
       "</div>"
      ],
      "text/plain": [
       "   Unnamed: 0                                         dorchester  \\\n",
       "0           0  ('Before entering a South African prison in 19...   \n",
       "1           1  ('A woman’s toe was bitten off during a fight ...   \n",
       "2           2  ('It’s the ideal time for a tech journalist to...   \n",
       "3           3  ('The first major snowstorm of 2014 has intens...   \n",
       "4           4  ('One Fund Boston  which initially collected $...   \n",
       "\n",
       "                                             roxbury  \\\n",
       "0  ('n individuals who worked in finance  insuran...   \n",
       "1  ('Dr  Kenneth C  Edelin  whose historic 1975 m...   \n",
       "2  ('When they go up  they form the centerpiece o...   \n",
       "3  ('Good Morning Chief Justice Ireland  Presiden...   \n",
       "4  ('Good Morning Chief Justice Ireland  Presiden...   \n",
       "\n",
       "                                            mattapan  \\\n",
       "0  ('The public scrap over who will serve as the ...   \n",
       "1  ('In what police described as a horrific trage...   \n",
       "2  ('The fatal shooting today of a 9 year old Mat...   \n",
       "3  ('During a highly publicized Boston Police Dep...   \n",
       "4  ('At Greater Love Tabernacle Church today  mor...   \n",
       "\n",
       "                                           hyde_park  \\\n",
       "0  ('The Boston Police Department has issued a co...   \n",
       "1  ('nOn the weekend before he was to be sworn in...   \n",
       "2  ('Boston saw its first two homicides of 2014 o...   \n",
       "3  ('An elderly woman became Boston’s first fire ...   \n",
       "4  ('n officials in Boston want to give 4 500 mid...   \n",
       "\n",
       "                                              fenway  \\\n",
       "0  ('Wahlburgers  the burger joint owned by Dorch...   \n",
       "1  ('n n n    and  are expanding their burger bus...   \n",
       "2  ('Mayor Martin J  Walsh plans to set aside spa...   \n",
       "3  ('By last Christmas  Frank Nunes seemed to hav...   \n",
       "4  ('SALEM — Martha Coakley had already made the ...   \n",
       "\n",
       "                                         beacon_hill  \\\n",
       "0  ('Martin J  Walsh becomes the 48th mayor of Bo...   \n",
       "1  ('One bone chilling Saturday night about 11 mo...   \n",
       "2  ('nhe Boston Public Library is using three dim...   \n",
       "3  ('QUINCY — Massachusetts Democrats saw a new B...   \n",
       "4  ('The state’s highest court has thrown out the...   \n",
       "\n",
       "                                            downtown  \\\n",
       "0  ('Last week  Mayor Marty Walsh declared to the...   \n",
       "1  ('The Federal Reserve must take a “patient app...   \n",
       "2  ('ncooler buses  For decades  economists like ...   \n",
       "3  ('When Ari S  Heckman was growing up in Provid...   \n",
       "4  ('Marty Walsh had never met Arianna Huffington...   \n",
       "\n",
       "                                        south_boston  \\\n",
       "0  ('The 20 year old who allegedly beat a disable...   \n",
       "1  ('n and Michelle Wu stood side by side at the ...   \n",
       "2  ('Jack Conley  who grew up in South Boston and...   \n",
       "3  ('Mayor Martin J  Walsh said Wednesday that he...   \n",
       "4  ('The state’s largest gay rights organization ...   \n",
       "\n",
       "                                         east_boston  ...  \\\n",
       "0  ('Saying that Massachusetts is facing “the big...  ...   \n",
       "1  ('MEMPHIS — The thank yous were almost endless...  ...   \n",
       "2  ('Marty Walsh has turned the casino licensing ...  ...   \n",
       "3  ('Marty Walsh has turned the casino licensing ...  ...   \n",
       "4  ('While he may not have been a household name ...  ...   \n",
       "\n",
       "                                         charlestown  \\\n",
       "0  ('Bright skies belie the early spring chill as...   \n",
       "1  ('As neighbors living a world apart  they awok...   \n",
       "2  ('When Boston firefighters pulled up to a vaca...   \n",
       "3  ('Two Charlestown teenagers — a 14 year old gi...   \n",
       "4  ('A Charlestown man was sentenced to up to 12 ...   \n",
       "\n",
       "                                            brighton  \\\n",
       "0  ('Boston’s new mayor  Martin J  Walsh  has rep...   \n",
       "1  ('The 26 year old Chinese entrepreneur had jus...   \n",
       "2  ('It was just some children playing baseball o...   \n",
       "3  ('Boston police are asking for the public’s he...   \n",
       "4  ('noffice  Mayor Marty Walsh has properly focu...   \n",
       "\n",
       "                                             allston  \\\n",
       "0  ('A small army of city inspectors will soon be...   \n",
       "1  ('n n for help  The harrowing leaps from smoky...   \n",
       "2  ('n n for help  The harrowing leaps from smoky...   \n",
       "3  ('n n for help  The harrowing leaps from smoky...   \n",
       "4  ('Mayor Martin J  Walsh replaced on Monday the...   \n",
       "\n",
       "                                            west_end  \\\n",
       "0  ('Shakespeare’s “A Midsummer Night’s Dream” se...   \n",
       "1  ('nis here    the nascent organizing committee...   \n",
       "2  ('nis here    the nascent organizing committee...   \n",
       "3  ('The first thing everyone noticed about Dawnn...   \n",
       "4  ('Dawnn Jaffier  the 26 year old Brighton woma...   \n",
       "\n",
       "                                          roslindale  \\\n",
       "0  ('Last February  Brandon John joined more than...   \n",
       "1  ('Don’t ask how the sausage is made  the old s...   \n",
       "2  ('Former Boston councilor Felix D  Arroyo  the...   \n",
       "3  ('nn the middle of evening rush hour at South ...   \n",
       "4  ('nn the middle of evening rush hour at South ...   \n",
       "\n",
       "                                           north_end  \\\n",
       "0  ('When the  offered season ticket holders the ...   \n",
       "1  ('As America’s most Irish American city  it co...   \n",
       "2  ('In nine days  Wegmans will open a new superm...   \n",
       "3  ('n n n nThe 150 dancing  singing  and drummin...   \n",
       "4  ('“Maybe I need a psychiatrist ” says Donato F...   \n",
       "\n",
       "                                        mission_hill  \\\n",
       "0  ('They were immigrants from Iraq and India  th...   \n",
       "1  ('Beth Israel Deaconess Medical Center said We...   \n",
       "2  ('The Rev  Joseph Hung Duc Tran had been ordai...   \n",
       "3  ('nLittle about the ordinary looking two famil...   \n",
       "4  ('For 24 years  Ellen Wade and Maureen Brodoff...   \n",
       "\n",
       "                                      harbor_islands longwood_medical_area  \\\n",
       "0  ('Rain crashes down on onto the tarp  thunder ...                         \n",
       "1                                                                            \n",
       "2                                                                            \n",
       "3                                                                            \n",
       "4                                                                            \n",
       "\n",
       "                                        west_roxbury  \n",
       "0  ('It’s been almost a full month since Thomas M...  \n",
       "1  ('Mayor Martin J  Walsh’s pick for acting fire...  \n",
       "2  ('His cousin would come to Children’s Hospital...  \n",
       "3  ('The  is offering 15 percent off purchases fr...  \n",
       "4  ('A 33 year old man with a criminal record dat...  \n",
       "\n",
       "[5 rows x 23 columns]"
      ]
     },
     "execution_count": 5,
     "metadata": {},
     "output_type": "execute_result"
    }
   ],
   "source": [
    "file_name = data_file_name_dict['2014']\n",
    "df = pd.read_csv(f'{CONTENT_ROOT_PATH}/{file_name}')\n",
    "df = df.replace(to_replace =\"('no article', 'no_id')\", value=\"\")\n",
    "df.head(5)"
   ]
  },
  {
   "cell_type": "code",
   "execution_count": 9,
   "metadata": {
    "id": "29bb1I_Q3SYx"
   },
   "outputs": [],
   "source": [
    "def parse_value(x):\n",
    "    try:\n",
    "        return literal_eval(x)   \n",
    "    except Exception as e:\n",
    "        return None\n",
    "\n",
    "def parse_column_values(data_frame):\n",
    "    for i in range(1, len(data_frame.columns)):\n",
    "        column_name = data_frame.columns[i]\n",
    "        data_frame[column_name] = data_frame[column_name].apply(lambda x: parse_value(x))   \n",
    "    return data_frame.iloc[: , 1:]"
   ]
  },
  {
   "cell_type": "code",
   "execution_count": 10,
   "metadata": {
    "id": "jy8unPwbx-bW"
   },
   "outputs": [],
   "source": [
    "def tokenize(text):\n",
    "    if text is None:\n",
    "        return None\n",
    "\n",
    "    text = text[0]\n",
    "    text = re.sub(\"^\\d+\\s|\\s\\d+\\s|\\s\\d+$\", \" \", text.lower())\n",
    "    tokens = []\n",
    "    for word in nltk.word_tokenize(text):\n",
    "        if word in all_stopwords:\n",
    "            continue\n",
    "        tokens.append(word)\n",
    "\n",
    "    return \" \".join(tokens)"
   ]
  },
  {
   "cell_type": "code",
   "execution_count": 11,
   "metadata": {
    "id": "XddXg5QEzm57"
   },
   "outputs": [],
   "source": [
    "def generate_training_test_doc_set(data_frame, train_column):\n",
    "    training_values = []\n",
    "    test_values = []\n",
    "    for i in range(len(data_frame.columns)):\n",
    "        column_name = data_frame.columns[i]\n",
    "        if (column_name == train_column):\n",
    "            train_val = data_frame[column_name].apply(lambda x: tokenize(x))\n",
    "            train_val = list(filter(None.__ne__, train_val))\n",
    "            training_values.extend(train_val)\n",
    "        else:\n",
    "            test_val = data_frame[column_name].apply(lambda x: tokenize(x))\n",
    "            test_val = list(filter(None.__ne__, test_val))\n",
    "            test_values.extend(test_val)\n",
    "\n",
    "    return (training_values, test_values)"
   ]
  },
  {
   "cell_type": "code",
   "execution_count": 24,
   "metadata": {
    "id": "NtxG1Ahn05sI"
   },
   "outputs": [],
   "source": [
    "def generate_frequency_matrix(year, file_name):\n",
    "  \n",
    "    important_neighborhood_words = {}\n",
    "\n",
    "    df = pd.read_csv(f'{CONTENT_ROOT_PATH}/{file_name}')\n",
    "    parsed_df = parse_column_values(df)\n",
    "\n",
    "    print(f\"generating tf-idf matrix for {year} dataset\")\n",
    "  \n",
    "    for i in range(len(parsed_df.columns)):\n",
    "        column_name = parsed_df.columns[i]\n",
    "        (training_values, test_values) = generate_training_test_doc_set(parsed_df, column_name)\n",
    "\n",
    "        if len(training_values) == 0 or len(test_values) == 0:\n",
    "            continue\n",
    "\n",
    "        tfidf_vectorizer = TfidfVectorizer(analyzer='word',stop_words= 'english', use_idf=True)\n",
    "\n",
    "        tfidf_vectorizer.fit(training_values)\n",
    "        tfidf_train = tfidf_vectorizer.transform(training_values)\n",
    "        tfidf_term_vectors  = tfidf_vectorizer.transform(test_values)\n",
    "\n",
    "        feature_names = np.array(tfidf_vectorizer.get_feature_names())\n",
    "        \n",
    "        df = pd.DataFrame(tfidf_term_vectors.toarray(), columns = feature_names)\n",
    "        df.to_csv(f'../data/processed/TF-IDF/{year}/tf-idf-{column_name}', index=False)\n",
    "\n",
    "    return (tfidf_term_vectors, feature_names)"
   ]
  },
  {
   "cell_type": "code",
   "execution_count": 25,
   "metadata": {
    "colab": {
     "base_uri": "https://localhost:8080/",
     "height": 389
    },
    "id": "RuIuji1uP7VN",
    "outputId": "9c04229f-d349-4819-b1ad-b35e63a80f25"
   },
   "outputs": [
    {
     "name": "stdout",
     "output_type": "stream",
     "text": [
      "generating tf-idf matrix for 2014 dataset\n"
     ]
    }
   ],
   "source": [
    "top_neighborhood_words = generate_frequency_matrix(2014, data_file_name_dict['2014'])"
   ]
  },
  {
   "cell_type": "code",
   "execution_count": 26,
   "metadata": {
    "colab": {
     "base_uri": "https://localhost:8080/"
    },
    "id": "bz9NJhOhUVRC",
    "outputId": "95e531a7-9d5f-4f89-be22-2031b8b149d5"
   },
   "outputs": [
    {
     "name": "stdout",
     "output_type": "stream",
     "text": [
      "generating tf-idf matrix for 2015 dataset\n"
     ]
    }
   ],
   "source": [
    "top_neighborhood_words = generate_frequency_matrix(2015, data_file_name_dict['2015'])"
   ]
  },
  {
   "cell_type": "code",
   "execution_count": 27,
   "metadata": {
    "colab": {
     "base_uri": "https://localhost:8080/"
    },
    "id": "HzZ9H1b9UWf3",
    "outputId": "73a5cdc8-52f0-4483-984f-a63e977bd0e4"
   },
   "outputs": [
    {
     "name": "stdout",
     "output_type": "stream",
     "text": [
      "generating tf-idf matrix for 2016 dataset\n"
     ]
    }
   ],
   "source": [
    "top_neighborhood_words = generate_frequency_matrix(2016, data_file_name_dict['2016'])"
   ]
  },
  {
   "cell_type": "code",
   "execution_count": 28,
   "metadata": {
    "id": "g3s2cL7IUXVT"
   },
   "outputs": [
    {
     "name": "stdout",
     "output_type": "stream",
     "text": [
      "generating tf-idf matrix for 2017 dataset\n"
     ]
    }
   ],
   "source": [
    "top_neighborhood_words = generate_frequency_matrix(2017, data_file_name_dict['2017'])"
   ]
  },
  {
   "cell_type": "code",
   "execution_count": 29,
   "metadata": {
    "id": "EXC1zHaIUZ-f"
   },
   "outputs": [
    {
     "name": "stdout",
     "output_type": "stream",
     "text": [
      "generating tf-idf matrix for 2018 dataset\n"
     ]
    }
   ],
   "source": [
    "top_neighborhood_words = generate_frequency_matrix(2018, data_file_name_dict['2018'])"
   ]
  },
  {
   "cell_type": "code",
   "execution_count": null,
   "metadata": {
    "id": "3UVyqVdKEYwj"
   },
   "outputs": [],
   "source": []
  }
 ],
 "metadata": {
  "accelerator": "GPU",
  "colab": {
   "collapsed_sections": [],
   "name": "TF-IDF.ipynb",
   "provenance": []
  },
  "kernelspec": {
   "display_name": "Python 3",
   "language": "python",
   "name": "python3"
  },
  "language_info": {
   "codemirror_mode": {
    "name": "ipython",
    "version": 3
   },
   "file_extension": ".py",
   "mimetype": "text/x-python",
   "name": "python",
   "nbconvert_exporter": "python",
   "pygments_lexer": "ipython3",
   "version": "3.8.3"
  }
 },
 "nbformat": 4,
 "nbformat_minor": 1
}
